{
 "cells": [
  {
   "cell_type": "code",
   "execution_count": 3,
   "id": "a82af59f",
   "metadata": {},
   "outputs": [],
   "source": [
    "var(\"x\")\n",
    "e = x**2 + 5 *x - 1\n",
    "with open(\"./filo.txt\", \"w\") as f:\n",
    "    f.write(str(e))"
   ]
  },
  {
   "cell_type": "code",
   "execution_count": null,
   "id": "dd03f5bd",
   "metadata": {},
   "outputs": [],
   "source": []
  }
 ],
 "metadata": {
  "kernelspec": {
   "display_name": "SageMath 9.5",
   "language": "sage",
   "name": "sagemath"
  },
  "language_info": {
   "codemirror_mode": {
    "name": "ipython",
    "version": 3
   },
   "file_extension": ".py",
   "mimetype": "text/x-python",
   "name": "python",
   "nbconvert_exporter": "python",
   "pygments_lexer": "ipython3",
   "version": "3.10.6"
  }
 },
 "nbformat": 4,
 "nbformat_minor": 5
}
